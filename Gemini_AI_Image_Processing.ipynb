{
  "nbformat": 4,
  "nbformat_minor": 0,
  "metadata": {
    "colab": {
      "provenance": [],
      "gpuType": "T4"
    },
    "kernelspec": {
      "name": "python3",
      "display_name": "Python 3"
    },
    "language_info": {
      "name": "python"
    },
    "accelerator": "GPU"
  },
  "cells": [
    {
      "cell_type": "code",
      "source": [
        "import google.generativeai as genai\n",
        "from google.colab import userdata\n",
        "\n",
        "GOOGLE_API_KEY = userdata.get('GOOGLE_API_KEY')\n",
        "genai.configure(api_key=GOOGLE_API_KEY)"
      ],
      "metadata": {
        "id": "NJ_QOGBccOBD"
      },
      "execution_count": 11,
      "outputs": []
    },
    {
      "cell_type": "code",
      "source": [
        "from google import genai\n",
        "from google.genai import types\n",
        "\n",
        "client = genai.Client(api_key=GOOGLE_API_KEY)"
      ],
      "metadata": {
        "id": "A2MnUPSUcZTw"
      },
      "execution_count": 12,
      "outputs": []
    },
    {
      "cell_type": "code",
      "execution_count": 18,
      "metadata": {
        "id": "zukyCLUyXkkb"
      },
      "outputs": [],
      "source": [
        "import pathlib\n",
        "import textwrap\n",
        "\n",
        "from IPython.display import display, Markdown\n",
        "\n",
        "def to_markdown(text):\n",
        "  text = text.replace('*',' *')\n",
        "  return Markdwon(textwrap.indent(text, '>',predicate=lambda _: True))"
      ]
    },
    {
      "source": [
        "import PIL.Image\n",
        "import google.generativeai as genai\n",
        "\n",
        "img = PIL.Image.open('image1.jpg')\n",
        "img\n",
        "\n",
        "model = genai.GenerativeModel('gemini-1.5-flash')\n",
        "\n",
        "response = model.generate_content([\n",
        "    \"write a short, engaging blog post based on this picture. \"\n",
        "    \"It should include a description of the meal in the photo and talk about my journey meal prepping.\", img\n",
        "], stream=True)\n",
        "\n",
        "response.resolve()"
      ],
      "cell_type": "code",
      "metadata": {
        "id": "ZOZ-ui_2c4Ms"
      },
      "execution_count": 16,
      "outputs": []
    },
    {
      "cell_type": "code",
      "source": [
        "response = model.generate_content([\"Generate an accurate caption for this image,\", img])\n",
        "print(response.text)"
      ],
      "metadata": {
        "colab": {
          "base_uri": "https://localhost:8080/",
          "height": 399
        },
        "id": "GpGRLtyReBdK",
        "outputId": "e72b69d8-ff9e-4805-e0f5-aacd441b1924"
      },
      "execution_count": 20,
      "outputs": [
        {
          "output_type": "stream",
          "name": "stdout",
          "text": [
            "Here are a few caption options for the image of two containers of food:\n",
            "\n",
            "**Option 1 (Simple & Descriptive):**\n",
            "\n",
            "> Healthy and delicious meal prep!  Chicken, broccoli, carrots, and rice. Perfect for a quick and nutritious lunch or dinner.\n",
            "\n",
            "**Option 2 (More Engaging):**\n",
            "\n",
            "> Lunch goals!  These teriyaki chicken and veggie bowls are packed with flavor and ready in minutes.  What's your favorite meal prep recipe?\n",
            "\n",
            "**Option 3 (Focus on Convenience):**\n",
            "\n",
            "> Easy weeknight dinners just got easier!  Meal prepping made simple with these tasty and healthy containers.\n",
            "\n",
            "\n",
            "**Option 4 (A bit more playful):**\n",
            "\n",
            "> Goodbye takeout, hello delicious and healthy homemade meals!  Who needs restaurant food when you can have this?\n",
            "\n",
            "\n",
            "Choose the caption that best suits your intended audience and platform.\n",
            "\n"
          ]
        }
      ]
    },
    {
      "cell_type": "code",
      "source": [
        "from PIL import Image\n",
        "\n",
        "image_path = \"girl.jpg\"\n",
        "image = Image.open(image_path)\n",
        "\n",
        "response = model.generate_content([\"Describe this image in detail.\", image])\n",
        "print(response.text)"
      ],
      "metadata": {
        "colab": {
          "base_uri": "https://localhost:8080/",
          "height": 263
        },
        "id": "2NkNdeiCeX4q",
        "outputId": "399df450-372a-4ae3-ed9f-89c08a80c9f3"
      },
      "execution_count": 21,
      "outputs": [
        {
          "output_type": "stream",
          "name": "stdout",
          "text": [
            "Here's a description of the image:\n",
            "\n",
            "Close-up view of a woman with shoulder-length, curly brown hair. \n",
            "\n",
            "\n",
            "She is light-skinned and has a warm, friendly expression. Her smile is pleasant and her eyes are engaging. She is wearing a teal-colored, three-quarter sleeve top or tunic with a subtle gold print or pattern that appears to be floral or paisley-inspired. The top has a simple, slightly open neckline. \n",
            "\n",
            "\n",
            "The woman is gesturing with her right index finger, pointing to the left side of the frame, suggesting she is indicating or drawing attention to something off-camera. Her arms are partially crossed, with one arm bent and the hand resting on the other upper arm. \n",
            "\n",
            "\n",
            "The background is plain white, which keeps the focus entirely on the woman. The overall impression is one of a positive and approachable person, perhaps offering a suggestion or presenting information. The lighting is even and soft.\n",
            "\n"
          ]
        }
      ]
    },
    {
      "cell_type": "code",
      "source": [
        "response = model.generate_content([\"what emotions can you detect in this image?\", image])\n",
        "print(response.text)"
      ],
      "metadata": {
        "colab": {
          "base_uri": "https://localhost:8080/",
          "height": 72
        },
        "id": "uuGfy3bAcybH",
        "outputId": "ef3f1225-197f-4104-a61a-73fe00fe1138"
      },
      "execution_count": 22,
      "outputs": [
        {
          "output_type": "stream",
          "name": "stdout",
          "text": [
            "The woman in the image appears to be expressing **confidence**, **friendliness**, and possibly a hint of **playfulness**.  Her smile and direct gaze suggest approachability, while her gesture of pointing indicates that she is actively engaging with something or someone.  The overall impression is one of positive and welcoming energy.\n",
            "\n"
          ]
        }
      ]
    },
    {
      "cell_type": "code",
      "source": [
        "image_path = \"quote.jpg\"\n",
        "image = Image.open(image_path)\n",
        "\n",
        "response = model.generate_content([\"Extract and read the text from this image.\", image])\n",
        "print(response.text)"
      ],
      "metadata": {
        "colab": {
          "base_uri": "https://localhost:8080/",
          "height": 86
        },
        "id": "URT2G7_2hpGv",
        "outputId": "ffd9597f-1c26-4406-85fe-8098d331153c"
      },
      "execution_count": 23,
      "outputs": [
        {
          "output_type": "stream",
          "name": "stdout",
          "text": [
            "FAILURE is not the\n",
            "opposite of success\n",
            "it's PART OF\n",
            "SUCCESS\n"
          ]
        }
      ]
    },
    {
      "cell_type": "code",
      "source": [],
      "metadata": {
        "id": "HFfbVXGIjwDy"
      },
      "execution_count": null,
      "outputs": []
    }
  ]
}